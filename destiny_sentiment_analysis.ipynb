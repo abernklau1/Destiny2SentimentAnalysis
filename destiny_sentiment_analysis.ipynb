{
 "cells": [
  {
   "cell_type": "markdown",
   "metadata": {},
   "source": [
    "# Technical Overview"
   ]
  },
  {
   "cell_type": "markdown",
   "metadata": {},
   "source": [
    "In this project, I have created a sentiment analysis of the Destiny community on Twitter. This involved the develop of a Binary classification model that predicts the sentiment of tweets with #destinythegame based on a target variable formulated through a SentimentIntensityAnalyzer. This project can be used to predict the current sentiment of the Destiny community as well as providing inference on the community's likes and dislikes of the current state of the game. \n",
    "\n",
    "A list of the top words within positive and negative tweets were extracted and used to create columns that holds a count of the number of positive words and negative words within each tweet. After removing punctuation, uppercase letters, and urls sklearn's CountVectorizer was used to remove stopwords and vectorize. The majority class was used as the baseline which was 53% negative. The final model was a simple logistic regression with a thousand iterations. The final test score was 78%."
   ]
  },
  {
   "cell_type": "markdown",
   "metadata": {},
   "source": [
    "# Overview"
   ]
  },
  {
   "cell_type": "markdown",
   "metadata": {},
   "source": [
    "In 2014, Bungie released an new game that many had anticipated. An epic sci-fi that follows the player through a fight between light and dark as old as the universe itself.  Within 24 hours of the game's release, the Destiny revenue hit $500 million dollars. Bungie had created a massive MMORPG that has been able to captivate millions of players with in depth lore, multiplayer campaigns and competitve player versus player. 7 years of Destiny has brought many good memories, adventures and even new friends to the vast community. "
   ]
  },
  {
   "cell_type": "markdown",
   "metadata": {},
   "source": [
    "## Businesss Understanding"
   ]
  },
  {
   "cell_type": "markdown",
   "metadata": {},
   "source": [
    "Bungie has been fantastic at providing players with new content quicker than most AAA games, releasing updates to the ongoing story and new missions nearly every three months.\n",
    "Now that they have provided the name and release date of the final expansion, Bungie seeks insight into the current sentiment of the Destiny Community on Twitter."
   ]
  },
  {
   "cell_type": "markdown",
   "metadata": {},
   "source": [
    "## Data Overview"
   ]
  },
  {
   "cell_type": "markdown",
   "metadata": {},
   "source": [
    "Using the free Elevated access of the Twitter API, 6.3 thousand tweets were scraped from the week before access request. With this access, a total of 900 tweets every 15 minutes was the rate at which tweets could be scraped. The python package 'tweepy' was used to scrape the tweets. The user ID, date, language, number of favorites, number of retweets and text of the tweet was scraped; only the text was used for the entirety of the project. None of these tweets were retweets. "
   ]
  },
  {
   "cell_type": "markdown",
   "metadata": {},
   "source": [
    "### Refer to 'code' File for Exact Function Operations"
   ]
  },
  {
   "cell_type": "markdown",
   "metadata": {},
   "source": [
    "### Imports"
   ]
  },
  {
   "cell_type": "code",
   "execution_count": 1,
   "metadata": {},
   "outputs": [],
   "source": [
    "import nltk\n",
    "from sklearn.model_selection import train_test_split\n",
    "from sklearn.linear_model import LogisticRegression\n",
    "from sklearn.model_selection import cross_val_score\n",
    "from sklearn.metrics import plot_confusion_matrix\n",
    "import pandas as pd\n",
    "\n",
    "import code.auth_and_scrape as get_tweets\n",
    "import code.preparation as prep\n",
    "import code.visualization as viz\n",
    "\n",
    "#nltk.download('vader_lexicon')\n",
    "#nltk.download('punkt')"
   ]
  },
  {
   "cell_type": "markdown",
   "metadata": {},
   "source": [
    "### Twitter API Authentication and Scrape"
   ]
  },
  {
   "cell_type": "markdown",
   "metadata": {},
   "source": [
    "Four keys provided upon granted access are needed for authentication."
   ]
  },
  {
   "cell_type": "code",
   "execution_count": null,
   "metadata": {},
   "outputs": [],
   "source": [
    "get_tweets.authenticate(key, key_secret, access, access_secret)"
   ]
  },
  {
   "cell_type": "markdown",
   "metadata": {},
   "source": [
    "The tweets were scraped from twitter and immediately placed into csv format to easily access and read within pandas."
   ]
  },
  {
   "cell_type": "code",
   "execution_count": 5,
   "metadata": {},
   "outputs": [
    {
     "name": "stdout",
     "output_type": "stream",
     "text": [
      "# of Tweets added from this response:  900\n",
      "# of Tweets added from this response:  900\n",
      "# of Tweets added from this response:  900\n",
      "# of Tweets added from this response:  900\n",
      "# of Tweets added from this response:  900\n",
      "# of Tweets added from this response:  900\n",
      "# of Tweets added from this response:  900\n"
     ]
    }
   ],
   "source": [
    "get_tweets.scrape_and_place()"
   ]
  },
  {
   "cell_type": "markdown",
   "metadata": {},
   "source": [
    "### Visualize and Clean"
   ]
  },
  {
   "cell_type": "code",
   "execution_count": 2,
   "metadata": {},
   "outputs": [
    {
     "data": {
      "text/html": [
       "<div>\n",
       "<style scoped>\n",
       "    .dataframe tbody tr th:only-of-type {\n",
       "        vertical-align: middle;\n",
       "    }\n",
       "\n",
       "    .dataframe tbody tr th {\n",
       "        vertical-align: top;\n",
       "    }\n",
       "\n",
       "    .dataframe thead th {\n",
       "        text-align: right;\n",
       "    }\n",
       "</style>\n",
       "<table border=\"1\" class=\"dataframe\">\n",
       "  <thead>\n",
       "    <tr style=\"text-align: right;\">\n",
       "      <th></th>\n",
       "      <th>id</th>\n",
       "      <th>created_at</th>\n",
       "      <th>language</th>\n",
       "      <th>favorites</th>\n",
       "      <th>retweets</th>\n",
       "      <th>text</th>\n",
       "    </tr>\n",
       "  </thead>\n",
       "  <tbody>\n",
       "    <tr>\n",
       "      <th>0</th>\n",
       "      <td>1462933594754670600</td>\n",
       "      <td>2021-11-22 23:58:43+00:00</td>\n",
       "      <td>en</td>\n",
       "      <td>0</td>\n",
       "      <td>0</td>\n",
       "      <td>@DestinyTheGame all id like is to be at least ...</td>\n",
       "    </tr>\n",
       "    <tr>\n",
       "      <th>1</th>\n",
       "      <td>1462933098887266308</td>\n",
       "      <td>2021-11-22 23:56:45+00:00</td>\n",
       "      <td>en</td>\n",
       "      <td>0</td>\n",
       "      <td>0</td>\n",
       "      <td>@DestinyTheGame Can someone please explain to ...</td>\n",
       "    </tr>\n",
       "    <tr>\n",
       "      <th>2</th>\n",
       "      <td>1462932969086087176</td>\n",
       "      <td>2021-11-22 23:56:14+00:00</td>\n",
       "      <td>en</td>\n",
       "      <td>1</td>\n",
       "      <td>0</td>\n",
       "      <td>@techaftmidnight @GoogleStadia @DestinyTheGame...</td>\n",
       "    </tr>\n",
       "    <tr>\n",
       "      <th>3</th>\n",
       "      <td>1462932844418842632</td>\n",
       "      <td>2021-11-22 23:55:44+00:00</td>\n",
       "      <td>en</td>\n",
       "      <td>1</td>\n",
       "      <td>0</td>\n",
       "      <td>Going live in 5 minutes!! Let's go GOD SQUAD!!...</td>\n",
       "    </tr>\n",
       "    <tr>\n",
       "      <th>4</th>\n",
       "      <td>1462932760515985420</td>\n",
       "      <td>2021-11-22 23:55:24+00:00</td>\n",
       "      <td>en</td>\n",
       "      <td>0</td>\n",
       "      <td>0</td>\n",
       "      <td>@A_dmg04 @DestinyTheGame Dear Eva, please brin...</td>\n",
       "    </tr>\n",
       "  </tbody>\n",
       "</table>\n",
       "</div>"
      ],
      "text/plain": [
       "                    id                 created_at language  favorites  \\\n",
       "0  1462933594754670600  2021-11-22 23:58:43+00:00       en          0   \n",
       "1  1462933098887266308  2021-11-22 23:56:45+00:00       en          0   \n",
       "2  1462932969086087176  2021-11-22 23:56:14+00:00       en          1   \n",
       "3  1462932844418842632  2021-11-22 23:55:44+00:00       en          1   \n",
       "4  1462932760515985420  2021-11-22 23:55:24+00:00       en          0   \n",
       "\n",
       "   retweets                                               text  \n",
       "0         0  @DestinyTheGame all id like is to be at least ...  \n",
       "1         0  @DestinyTheGame Can someone please explain to ...  \n",
       "2         0  @techaftmidnight @GoogleStadia @DestinyTheGame...  \n",
       "3         0  Going live in 5 minutes!! Let's go GOD SQUAD!!...  \n",
       "4         0  @A_dmg04 @DestinyTheGame Dear Eva, please brin...  "
      ]
     },
     "execution_count": 2,
     "metadata": {},
     "output_type": "execute_result"
    }
   ],
   "source": [
    "df = pd.read_csv('data/data.csv')\n",
    "df.head()"
   ]
  },
  {
   "cell_type": "code",
   "execution_count": 3,
   "metadata": {},
   "outputs": [
    {
     "data": {
      "text/plain": [
       "'@DestinyTheGame Can someone please explain to me why I (top 7-10%ish player) keep getting teamed with people in the… https://t.co/fREoFm7Emb'"
      ]
     },
     "execution_count": 3,
     "metadata": {},
     "output_type": "execute_result"
    }
   ],
   "source": [
    "df.text[1]"
   ]
  },
  {
   "cell_type": "markdown",
   "metadata": {},
   "source": [
    "This tweet has a ton of punctuation and it even includes a url. In order for the sentiment analyzer to be able to read and understand this, these aspects must be removed and all uppercase letters lowered. Here A function has been create to do this."
   ]
  },
  {
   "cell_type": "code",
   "execution_count": 4,
   "metadata": {},
   "outputs": [
    {
     "data": {
      "text/html": [
       "<div>\n",
       "<style scoped>\n",
       "    .dataframe tbody tr th:only-of-type {\n",
       "        vertical-align: middle;\n",
       "    }\n",
       "\n",
       "    .dataframe tbody tr th {\n",
       "        vertical-align: top;\n",
       "    }\n",
       "\n",
       "    .dataframe thead th {\n",
       "        text-align: right;\n",
       "    }\n",
       "</style>\n",
       "<table border=\"1\" class=\"dataframe\">\n",
       "  <thead>\n",
       "    <tr style=\"text-align: right;\">\n",
       "      <th></th>\n",
       "      <th>id</th>\n",
       "      <th>created_at</th>\n",
       "      <th>language</th>\n",
       "      <th>favorites</th>\n",
       "      <th>retweets</th>\n",
       "      <th>text</th>\n",
       "      <th>clean_text</th>\n",
       "    </tr>\n",
       "  </thead>\n",
       "  <tbody>\n",
       "    <tr>\n",
       "      <th>0</th>\n",
       "      <td>1462933594754670600</td>\n",
       "      <td>2021-11-22 23:58:43+00:00</td>\n",
       "      <td>en</td>\n",
       "      <td>0</td>\n",
       "      <td>0</td>\n",
       "      <td>@DestinyTheGame all id like is to be at least ...</td>\n",
       "      <td>all id like is to be at least decent in cruc...</td>\n",
       "    </tr>\n",
       "    <tr>\n",
       "      <th>1</th>\n",
       "      <td>1462933098887266308</td>\n",
       "      <td>2021-11-22 23:56:45+00:00</td>\n",
       "      <td>en</td>\n",
       "      <td>0</td>\n",
       "      <td>0</td>\n",
       "      <td>@DestinyTheGame Can someone please explain to ...</td>\n",
       "      <td>can someone please explain to me why i  top ...</td>\n",
       "    </tr>\n",
       "    <tr>\n",
       "      <th>2</th>\n",
       "      <td>1462932969086087176</td>\n",
       "      <td>2021-11-22 23:56:14+00:00</td>\n",
       "      <td>en</td>\n",
       "      <td>1</td>\n",
       "      <td>0</td>\n",
       "      <td>@techaftmidnight @GoogleStadia @DestinyTheGame...</td>\n",
       "      <td>sekiroshadowsdietwice    cyberpunk2077 ...</td>\n",
       "    </tr>\n",
       "    <tr>\n",
       "      <th>3</th>\n",
       "      <td>1462932844418842632</td>\n",
       "      <td>2021-11-22 23:55:44+00:00</td>\n",
       "      <td>en</td>\n",
       "      <td>1</td>\n",
       "      <td>0</td>\n",
       "      <td>Going live in 5 minutes!! Let's go GOD SQUAD!!...</td>\n",
       "      <td>going live in 5 minutes   let s go god squad  ...</td>\n",
       "    </tr>\n",
       "    <tr>\n",
       "      <th>4</th>\n",
       "      <td>1462932760515985420</td>\n",
       "      <td>2021-11-22 23:55:24+00:00</td>\n",
       "      <td>en</td>\n",
       "      <td>0</td>\n",
       "      <td>0</td>\n",
       "      <td>@A_dmg04 @DestinyTheGame Dear Eva, please brin...</td>\n",
       "      <td>dmg04   dear eva  please bring me gambit jad...</td>\n",
       "    </tr>\n",
       "  </tbody>\n",
       "</table>\n",
       "</div>"
      ],
      "text/plain": [
       "                    id                 created_at language  favorites  \\\n",
       "0  1462933594754670600  2021-11-22 23:58:43+00:00       en          0   \n",
       "1  1462933098887266308  2021-11-22 23:56:45+00:00       en          0   \n",
       "2  1462932969086087176  2021-11-22 23:56:14+00:00       en          1   \n",
       "3  1462932844418842632  2021-11-22 23:55:44+00:00       en          1   \n",
       "4  1462932760515985420  2021-11-22 23:55:24+00:00       en          0   \n",
       "\n",
       "   retweets                                               text  \\\n",
       "0         0  @DestinyTheGame all id like is to be at least ...   \n",
       "1         0  @DestinyTheGame Can someone please explain to ...   \n",
       "2         0  @techaftmidnight @GoogleStadia @DestinyTheGame...   \n",
       "3         0  Going live in 5 minutes!! Let's go GOD SQUAD!!...   \n",
       "4         0  @A_dmg04 @DestinyTheGame Dear Eva, please brin...   \n",
       "\n",
       "                                          clean_text  \n",
       "0    all id like is to be at least decent in cruc...  \n",
       "1    can someone please explain to me why i  top ...  \n",
       "2         sekiroshadowsdietwice    cyberpunk2077 ...  \n",
       "3  going live in 5 minutes   let s go god squad  ...  \n",
       "4    dmg04   dear eva  please bring me gambit jad...  "
      ]
     },
     "execution_count": 4,
     "metadata": {},
     "output_type": "execute_result"
    }
   ],
   "source": [
    "df = prep.clean_tweets(df)\n",
    "df.head()"
   ]
  },
  {
   "cell_type": "markdown",
   "metadata": {},
   "source": [
    "Now that the data is cleaned, to create a target variable the data will be run through a sentiment analyzer. This uses a TextBlob and SentimentIntensityAnalyzer to create a dataframe with the polarity, subjectivity, and sentiment of a tweet."
   ]
  },
  {
   "cell_type": "code",
   "execution_count": 5,
   "metadata": {},
   "outputs": [],
   "source": [
    "df_probs = prep.create_sentiment_neu(df)"
   ]
  },
  {
   "cell_type": "markdown",
   "metadata": {},
   "source": [
    "This analyzer shows the tweets are overwhelmingly neutral. "
   ]
  },
  {
   "cell_type": "code",
   "execution_count": 6,
   "metadata": {},
   "outputs": [
    {
     "data": {
      "image/png": "[encoded data removed]",
      "text/plain": [
       "<Figure size 432x288 with 1 Axes>"
      ]
     },
     "metadata": {},
     "output_type": "display_data"
    }
   ],
   "source": [
    "viz.pie_chart(df_probs)\n"
   ]
  },
  {
   "cell_type": "markdown",
   "metadata": {},
   "source": [
    "Neutral tweet exploration"
   ]
  },
  {
   "cell_type": "code",
   "execution_count": 7,
   "metadata": {},
   "outputs": [],
   "source": [
    "df_neu_uncleaned = prep.create_neu_df(df, df_probs)"
   ]
  },
  {
   "cell_type": "code",
   "execution_count": 8,
   "metadata": {},
   "outputs": [],
   "source": [
    "df_neu_cleaned = prep.clean_tweets(df_neu_uncleaned)"
   ]
  },
  {
   "cell_type": "code",
   "execution_count": 9,
   "metadata": {},
   "outputs": [
    {
     "data": {
      "text/plain": [
       "'  dear eva    bring some good looking warlocks helmets i m sick and tired of using only two'"
      ]
     },
     "execution_count": 9,
     "metadata": {},
     "output_type": "execute_result"
    }
   ],
   "source": [
    "df_neu_cleaned.clean_text[17]"
   ]
  },
  {
   "cell_type": "code",
   "execution_count": 10,
   "metadata": {},
   "outputs": [
    {
     "data": {
      "text/plain": [
       "'  i wish bungie would stop taking content people paid for out of the game  '"
      ]
     },
     "execution_count": 10,
     "metadata": {},
     "output_type": "execute_result"
    }
   ],
   "source": [
    "df_neu_cleaned.clean_text[20]"
   ]
  },
  {
   "cell_type": "code",
   "execution_count": 14,
   "metadata": {},
   "outputs": [
    {
     "data": {
      "text/plain": [
       "'  dearest space grandmama     along side the joy you bring to us each visit  all i ask is for high stat  '"
      ]
     },
     "execution_count": 14,
     "metadata": {},
     "output_type": "execute_result"
    }
   ],
   "source": [
    "df_neu_cleaned.clean_text[53]"
   ]
  },
  {
   "cell_type": "code",
   "execution_count": 15,
   "metadata": {},
   "outputs": [
    {
     "data": {
      "text/plain": [
       "'  dear eva     i wish you well and hope you re prepping for the anniversary     i m thrilled   could y  '"
      ]
     },
     "execution_count": 15,
     "metadata": {},
     "output_type": "execute_result"
    }
   ],
   "source": [
    "df_neu_cleaned.clean_text[143]"
   ]
  },
  {
   "cell_type": "markdown",
   "metadata": {},
   "source": [
    "This analyzer spits out 4 different scores for each tweet, a positive, negative, neutral and compound score. There seems to be some tweets within the neutral category that are clearly positive and negative so we will strictly focus on those two scores."
   ]
  },
  {
   "cell_type": "code",
   "execution_count": 16,
   "metadata": {},
   "outputs": [],
   "source": [
    "df_probs = prep.create_sentiment(df)"
   ]
  },
  {
   "cell_type": "code",
   "execution_count": 21,
   "metadata": {},
   "outputs": [
    {
     "data": {
      "image/png": "[encoded data removed]",
      "text/plain": [
       "<Figure size 640x480 with 1 Axes>"
      ]
     },
     "metadata": {},
     "output_type": "display_data"
    }
   ],
   "source": [
    "viz.pie_chart(df_probs)"
   ]
  },
  {
   "cell_type": "markdown",
   "metadata": {},
   "source": [
    "Feature Engineering the Positives and Negatives"
   ]
  },
  {
   "cell_type": "markdown",
   "metadata": {},
   "source": [
    "Two dataframes are created, one with specifically tweets that had a positive sentiment and another that was created specifically with tweets that had a negative sentiment."
   ]
  },
  {
   "cell_type": "code",
   "execution_count": 22,
   "metadata": {},
   "outputs": [],
   "source": [
    "df_pos_uncleaned = prep.create_pos_df(df, df_probs)"
   ]
  },
  {
   "cell_type": "code",
   "execution_count": 26,
   "metadata": {},
   "outputs": [
    {
     "data": {
      "text/html": [
       "<div>\n",
       "<style scoped>\n",
       "    .dataframe tbody tr th:only-of-type {\n",
       "        vertical-align: middle;\n",
       "    }\n",
       "\n",
       "    .dataframe tbody tr th {\n",
       "        vertical-align: top;\n",
       "    }\n",
       "\n",
       "    .dataframe thead th {\n",
       "        text-align: right;\n",
       "    }\n",
       "</style>\n",
       "<table border=\"1\" class=\"dataframe\">\n",
       "  <thead>\n",
       "    <tr style=\"text-align: right;\">\n",
       "      <th></th>\n",
       "      <th>index</th>\n",
       "      <th>text</th>\n",
       "      <th>sentiment</th>\n",
       "      <th>clean_text</th>\n",
       "    </tr>\n",
       "  </thead>\n",
       "  <tbody>\n",
       "    <tr>\n",
       "      <th>0</th>\n",
       "      <td>0</td>\n",
       "      <td>@DestinyTheGame all id like is to be at least ...</td>\n",
       "      <td>1.0</td>\n",
       "      <td>all id like is to be at least decent in cruc...</td>\n",
       "    </tr>\n",
       "    <tr>\n",
       "      <th>1</th>\n",
       "      <td>1</td>\n",
       "      <td>@DestinyTheGame Can someone please explain to ...</td>\n",
       "      <td>1.0</td>\n",
       "      <td>can someone please explain to me why i  top ...</td>\n",
       "    </tr>\n",
       "    <tr>\n",
       "      <th>2</th>\n",
       "      <td>3</td>\n",
       "      <td>Going live in 5 minutes!! Let's go GOD SQUAD!!...</td>\n",
       "      <td>1.0</td>\n",
       "      <td>going live in 5 minutes   let s go god squad  ...</td>\n",
       "    </tr>\n",
       "    <tr>\n",
       "      <th>3</th>\n",
       "      <td>4</td>\n",
       "      <td>@A_dmg04 @DestinyTheGame Dear Eva, please brin...</td>\n",
       "      <td>1.0</td>\n",
       "      <td>dmg04   dear eva  please bring me gambit jad...</td>\n",
       "    </tr>\n",
       "    <tr>\n",
       "      <th>4</th>\n",
       "      <td>5</td>\n",
       "      <td>A PS5 would be nice https://t.co/NywWHkzJaA</td>\n",
       "      <td>1.0</td>\n",
       "      <td>a ps5 would be nice</td>\n",
       "    </tr>\n",
       "  </tbody>\n",
       "</table>\n",
       "</div>"
      ],
      "text/plain": [
       "   index                                               text  sentiment  \\\n",
       "0      0  @DestinyTheGame all id like is to be at least ...        1.0   \n",
       "1      1  @DestinyTheGame Can someone please explain to ...        1.0   \n",
       "2      3  Going live in 5 minutes!! Let's go GOD SQUAD!!...        1.0   \n",
       "3      4  @A_dmg04 @DestinyTheGame Dear Eva, please brin...        1.0   \n",
       "4      5        A PS5 would be nice https://t.co/NywWHkzJaA        1.0   \n",
       "\n",
       "                                          clean_text  \n",
       "0    all id like is to be at least decent in cruc...  \n",
       "1    can someone please explain to me why i  top ...  \n",
       "2  going live in 5 minutes   let s go god squad  ...  \n",
       "3    dmg04   dear eva  please bring me gambit jad...  \n",
       "4                               a ps5 would be nice   "
      ]
     },
     "execution_count": 26,
     "metadata": {},
     "output_type": "execute_result"
    }
   ],
   "source": [
    "df_pos_cleaned = prep.clean_tweets(df_pos_uncleaned)\n",
    "df_pos_cleaned.head()"
   ]
  },
  {
   "cell_type": "code",
   "execution_count": 28,
   "metadata": {},
   "outputs": [
    {
     "data": {
      "text/html": [
       "<div>\n",
       "<style scoped>\n",
       "    .dataframe tbody tr th:only-of-type {\n",
       "        vertical-align: middle;\n",
       "    }\n",
       "\n",
       "    .dataframe tbody tr th {\n",
       "        vertical-align: top;\n",
       "    }\n",
       "\n",
       "    .dataframe thead th {\n",
       "        text-align: right;\n",
       "    }\n",
       "</style>\n",
       "<table border=\"1\" class=\"dataframe\">\n",
       "  <thead>\n",
       "    <tr style=\"text-align: right;\">\n",
       "      <th></th>\n",
       "      <th>text</th>\n",
       "      <th>sentiment</th>\n",
       "      <th>clean_text</th>\n",
       "    </tr>\n",
       "  </thead>\n",
       "  <tbody>\n",
       "    <tr>\n",
       "      <th>2</th>\n",
       "      <td>@techaftmidnight @GoogleStadia @DestinyTheGame...</td>\n",
       "      <td>0.0</td>\n",
       "      <td>sekiroshadowsdietwice    cyberpunk2077 ...</td>\n",
       "    </tr>\n",
       "    <tr>\n",
       "      <th>10</th>\n",
       "      <td>@DestinyTheGame Letter to grandma Eva https://...</td>\n",
       "      <td>0.0</td>\n",
       "      <td>letter to grandma eva</td>\n",
       "    </tr>\n",
       "    <tr>\n",
       "      <th>12</th>\n",
       "      <td>@workingklassred @Xbox @DestinyTheGame Lies yo...</td>\n",
       "      <td>0.0</td>\n",
       "      <td>lies you re a bin dipper</td>\n",
       "    </tr>\n",
       "    <tr>\n",
       "      <th>14</th>\n",
       "      <td>SPARROW RACING LEAGUE!!! https://t.co/S8rDgduGcv</td>\n",
       "      <td>0.0</td>\n",
       "      <td>sparrow racing league</td>\n",
       "    </tr>\n",
       "    <tr>\n",
       "      <th>17</th>\n",
       "      <td>@DestinyTheGame Dear Eva\\r\\n\\r\\nBRING SOME GOO...</td>\n",
       "      <td>0.0</td>\n",
       "      <td>dear eva    bring some good looking warlocks...</td>\n",
       "    </tr>\n",
       "  </tbody>\n",
       "</table>\n",
       "</div>"
      ],
      "text/plain": [
       "                                                 text  sentiment  \\\n",
       "2   @techaftmidnight @GoogleStadia @DestinyTheGame...        0.0   \n",
       "10  @DestinyTheGame Letter to grandma Eva https://...        0.0   \n",
       "12  @workingklassred @Xbox @DestinyTheGame Lies yo...        0.0   \n",
       "14   SPARROW RACING LEAGUE!!! https://t.co/S8rDgduGcv        0.0   \n",
       "17  @DestinyTheGame Dear Eva\\r\\n\\r\\nBRING SOME GOO...        0.0   \n",
       "\n",
       "                                           clean_text  \n",
       "2          sekiroshadowsdietwice    cyberpunk2077 ...  \n",
       "10                             letter to grandma eva   \n",
       "12                          lies you re a bin dipper   \n",
       "14                          sparrow racing league      \n",
       "17    dear eva    bring some good looking warlocks...  "
      ]
     },
     "execution_count": 28,
     "metadata": {},
     "output_type": "execute_result"
    }
   ],
   "source": [
    "df_neg_uncleaned = prep.create_neg_df(df, df_probs)\n",
    "df_neg_cleaned = prep.clean_tweets(df_neg_uncleaned)\n",
    "df_neg_cleaned.head()"
   ]
  },
  {
   "cell_type": "markdown",
   "metadata": {},
   "source": [
    "Two lists of the top most frequent words that occured in each dataframe are created."
   ]
  },
  {
   "cell_type": "code",
   "execution_count": 29,
   "metadata": {},
   "outputs": [
    {
     "name": "stdout",
     "output_type": "stream",
     "text": [
      "['destiny2', 'threadsoflight', 'game', 'play', 'congrats', 'thanks', 'bring', 'destinythegame', 'make', 'really', 'don', 'hope', 'great', 'time', 'nice', 'better', 'new', 'day', 'playing', 'looks', 'congratulations', 'yeah', 'bungie', 'know', 'happy', 'trials', 'help', 'awesome', 'think', 've', 'going', 'dawning', 'wish', 'year', 'fun', 'got', 'space', 'hunter', 'people', 'shader', 'look', 'best', 'd2', 'live', 'crow', 'grandma', 'free', 'let', 'need', 'amazing', 'today', 'twab', 'friends', 'll', 'guardian', 'lol', 'week', 'use', 'getting', 'god', 'cool', 'pvp', 'changes', 'work', 'come', 'double', 'amp', 'right', 'looking', 'titan', 'team', 'maybe', 'ability', 'actually', 'oh', 'win', 'vex', 'pretty', 'flawless', 'thememe', 'super', 'man', 'played', 'rewards']\n"
     ]
    }
   ],
   "source": [
    "positives_and_count, pos_vec = prep.top_n_gram(df_pos_cleaned['clean_text'], (1,1), 300)\n",
    "\n",
    "positives = [x[0] for x in positives_and_count]\n",
    "top_10_pos = positives[:10]\n",
    "positives_minus_top_10 = [x for x in positives if x not in top_10_pos]\n",
    "print(positives_minus_top_10)"
   ]
  },
  {
   "cell_type": "code",
   "execution_count": 30,
   "metadata": {},
   "outputs": [
    {
     "name": "stdout",
     "output_type": "stream",
     "text": [
      "['time', 'don', 'new', 'got', 'make', 'warlock', 'destiny2art', 'twab', 'caiatl', 'titan', 'going', 'did', 'like', 've', 'light', 'thememe', 'trials', 'shit', 'day', 'getting', 'know', 'right', 'hey', 'think', 'queen', 'pvp', 'asking', 'll', 'live', 'let', 'talking', 'weapons', 'destinyfashion', 'pass', 'bad', 'crucible', 'probably', 'people', 'fucking', 'say', 'bring', 'wait', 'come', 'witch', 'destinyart', 'look', 'gonna', 'raid']\n"
     ]
    }
   ],
   "source": [
    "negatives_and_count, neg_vec = prep.top_n_gram(df_neg_cleaned['clean_text'], (1,1), 300)\n",
    "\n",
    "negatives = [x[0] for x in negatives_and_count]\n",
    "top_10_neg = negatives[:10]\n",
    "negatives_minus_top_10 = [x for x in negatives if x not in top_10_neg]\n",
    "print(negatives_minus_top_10)"
   ]
  },
  {
   "cell_type": "markdown",
   "metadata": {},
   "source": [
    "Now two columns are created, one of positive wordcount within the tweets and one of negative word count within the tweets."
   ]
  },
  {
   "cell_type": "code",
   "execution_count": 31,
   "metadata": {},
   "outputs": [],
   "source": [
    "pos_features = [\n",
    "    (prep.create_features(review, positives_minus_top_10))\n",
    "    for review in df['clean_text']]"
   ]
  },
  {
   "cell_type": "code",
   "execution_count": 32,
   "metadata": {},
   "outputs": [],
   "source": [
    "neg_features = [(prep.create_features(review, negatives_minus_top_10))\n",
    "                for review in df['clean_text']]"
   ]
  },
  {
   "cell_type": "code",
   "execution_count": 33,
   "metadata": {},
   "outputs": [],
   "source": [
    "df_feat = pd.concat([df['clean_text'], pd.DataFrame(pos_features,columns=['positive_word_count']), \n",
    "                     pd.DataFrame(neg_features,columns=['negative_word_count'])], axis=1)"
   ]
  },
  {
   "cell_type": "code",
   "execution_count": 34,
   "metadata": {},
   "outputs": [
    {
     "data": {
      "text/html": [
       "<div>\n",
       "<style scoped>\n",
       "    .dataframe tbody tr th:only-of-type {\n",
       "        vertical-align: middle;\n",
       "    }\n",
       "\n",
       "    .dataframe tbody tr th {\n",
       "        vertical-align: top;\n",
       "    }\n",
       "\n",
       "    .dataframe thead th {\n",
       "        text-align: right;\n",
       "    }\n",
       "</style>\n",
       "<table border=\"1\" class=\"dataframe\">\n",
       "  <thead>\n",
       "    <tr style=\"text-align: right;\">\n",
       "      <th></th>\n",
       "      <th>clean_text</th>\n",
       "      <th>positive_word_count</th>\n",
       "      <th>negative_word_count</th>\n",
       "    </tr>\n",
       "  </thead>\n",
       "  <tbody>\n",
       "    <tr>\n",
       "      <th>0</th>\n",
       "      <td>all id like is to be at least decent in cruc...</td>\n",
       "      <td>0</td>\n",
       "      <td>2</td>\n",
       "    </tr>\n",
       "    <tr>\n",
       "      <th>1</th>\n",
       "      <td>can someone please explain to me why i  top ...</td>\n",
       "      <td>2</td>\n",
       "      <td>2</td>\n",
       "    </tr>\n",
       "    <tr>\n",
       "      <th>2</th>\n",
       "      <td>sekiroshadowsdietwice    cyberpunk2077 ...</td>\n",
       "      <td>0</td>\n",
       "      <td>0</td>\n",
       "    </tr>\n",
       "    <tr>\n",
       "      <th>3</th>\n",
       "      <td>going live in 5 minutes   let s go god squad  ...</td>\n",
       "      <td>7</td>\n",
       "      <td>4</td>\n",
       "    </tr>\n",
       "    <tr>\n",
       "      <th>4</th>\n",
       "      <td>dmg04   dear eva  please bring me gambit jad...</td>\n",
       "      <td>2</td>\n",
       "      <td>1</td>\n",
       "    </tr>\n",
       "  </tbody>\n",
       "</table>\n",
       "</div>"
      ],
      "text/plain": [
       "                                          clean_text  positive_word_count  \\\n",
       "0    all id like is to be at least decent in cruc...                    0   \n",
       "1    can someone please explain to me why i  top ...                    2   \n",
       "2         sekiroshadowsdietwice    cyberpunk2077 ...                    0   \n",
       "3  going live in 5 minutes   let s go god squad  ...                    7   \n",
       "4    dmg04   dear eva  please bring me gambit jad...                    2   \n",
       "\n",
       "   negative_word_count  \n",
       "0                    2  \n",
       "1                    2  \n",
       "2                    0  \n",
       "3                    4  \n",
       "4                    1  "
      ]
     },
     "execution_count": 34,
     "metadata": {},
     "output_type": "execute_result"
    }
   ],
   "source": [
    "df_feat.head()"
   ]
  },
  {
   "cell_type": "markdown",
   "metadata": {},
   "source": [
    "### Train-test split"
   ]
  },
  {
   "cell_type": "code",
   "execution_count": 37,
   "metadata": {},
   "outputs": [],
   "source": [
    "# Train-test split\n",
    "X_train,X_test,y_train,y_test = train_test_split(df_feat, df_probs['sentiment'],random_state=1)"
   ]
  },
  {
   "cell_type": "markdown",
   "metadata": {},
   "source": [
    "Words are ran through a vectorizing function and new vecotrized dataframes are created. "
   ]
  },
  {
   "cell_type": "code",
   "execution_count": 38,
   "metadata": {},
   "outputs": [],
   "source": [
    "feat, feat_vec_train = prep.top_n_gram(X_train['clean_text'], (1,1), 100)\n",
    "feat, feat_vec_test = prep.top_n_gram_test(X_test['clean_text'], X_train['clean_text'], (1,1), 100)\n",
    "\n",
    "X_train.reset_index(drop=True, inplace=True)\n",
    "X_test.reset_index(drop=True, inplace=True)\n",
    "\n",
    "#Create X_train vectorized\n",
    "X_train_vec = pd.concat([X_train.drop('clean_text', axis=1), pd.DataFrame(feat_vec_train.todense())], axis=1)\n",
    "X_test_vec = pd.concat([X_test.drop('clean_text', axis=1), pd.DataFrame(feat_vec_test.todense())], axis=1)"
   ]
  },
  {
   "cell_type": "markdown",
   "metadata": {},
   "source": [
    "### Modeling"
   ]
  },
  {
   "cell_type": "markdown",
   "metadata": {},
   "source": [
    "#### Baseline"
   ]
  },
  {
   "cell_type": "markdown",
   "metadata": {},
   "source": [
    "Baseline model is the majority class at 53.4% negative."
   ]
  },
  {
   "cell_type": "code",
   "execution_count": 19,
   "metadata": {},
   "outputs": [
    {
     "data": {
      "text/plain": [
       "0.5337566137566138"
      ]
     },
     "execution_count": 19,
     "metadata": {},
     "output_type": "execute_result"
    }
   ],
   "source": [
    "y_train.value_counts()[0]/y_train.shape[0]"
   ]
  },
  {
   "cell_type": "markdown",
   "metadata": {},
   "source": [
    "#### Logistic Regression"
   ]
  },
  {
   "cell_type": "markdown",
   "metadata": {},
   "source": [
    "For sentiment analysis, the preprocessing steps determine the outcome of the model so here a simple logistic regression is fit to the train and scored on the test. The final accuracy comes out to be 78.9%. "
   ]
  },
  {
   "cell_type": "code",
   "execution_count": 39,
   "metadata": {},
   "outputs": [
    {
     "data": {
      "text/plain": [
       "0.7892063492063492"
      ]
     },
     "execution_count": 39,
     "metadata": {},
     "output_type": "execute_result"
    }
   ],
   "source": [
    "log_model = LogisticRegression(max_iter=1000)\n",
    "log_model.fit(X_train_vec, y_train)\n",
    "log_model.score(X_test_vec, y_test)"
   ]
  },
  {
   "cell_type": "markdown",
   "metadata": {},
   "source": [
    "### Scoring"
   ]
  },
  {
   "cell_type": "code",
   "execution_count": 40,
   "metadata": {},
   "outputs": [
    {
     "data": {
      "text/plain": [
       "0.7784126984126984"
      ]
     },
     "execution_count": 40,
     "metadata": {},
     "output_type": "execute_result"
    }
   ],
   "source": [
    "cross_val = cross_val_score(log_model, X_test_vec, y_test).mean()\n",
    "cross_val"
   ]
  },
  {
   "cell_type": "code",
   "execution_count": 41,
   "metadata": {},
   "outputs": [
    {
     "data": {
      "image/png": "[encoded data removed]",
      "text/plain": [
       "<Figure size 640x480 with 2 Axes>"
      ]
     },
     "metadata": {},
     "output_type": "display_data"
    }
   ],
   "source": [
    "plot_confusion_matrix(log_model, X_test_vec, y_test);"
   ]
  },
  {
   "cell_type": "markdown",
   "metadata": {},
   "source": [
    "## Recommendations"
   ]
  },
  {
   "cell_type": "markdown",
   "metadata": {},
   "source": [
    "This project revealed that filtering for positive and negative tweets could be a great tool to understand what the destiny community is thinking at the time of scraping. This model is great at helping understand current sentiment of the Destiny community; understanding the community's concerns or even their favorite aspects of the game. Using this to help filter bugs, improve gameplay and getting overall general feedback is advised."
   ]
  },
  {
   "cell_type": "markdown",
   "metadata": {},
   "source": [
    "## Future Research"
   ]
  },
  {
   "cell_type": "markdown",
   "metadata": {},
   "source": [
    "Now that twitter has been scraped, more platforms that have a large destiny community presence would be a good idea to scrape. Scraping the destiny forums, Reddit and even Twitch chats would be helpful an acquiring a larger sense of the entire community's sentiment toward the game. \n",
    "\n",
    "As the frustration of cheaters ruining gameplay grows, Bungie is looking for help in anti-cheat. Scraping platforms like Reddit, where users flaunt their extreme success to possibly identify fraudulent gameplay is an action that can help toward removing those players from the game."
   ]
  }
 ],
 "metadata": {
  "interpreter": {
   "hash": "c94be41889154d41bf43aca8d1a8d1cd64b97c119170e03e2ed46ca87183f0c5"
  },
  "kernelspec": {
   "display_name": "Python 3",
   "language": "python",
   "name": "python3"
  },
  "language_info": {
   "codemirror_mode": {
    "name": "ipython",
    "version": 3
   },
   "file_extension": ".py",
   "mimetype": "text/x-python",
   "name": "python",
   "nbconvert_exporter": "python",
   "pygments_lexer": "ipython3",
   "version": "3.8.1"
  }
 },
 "nbformat": 4,
 "nbformat_minor": 2
}
